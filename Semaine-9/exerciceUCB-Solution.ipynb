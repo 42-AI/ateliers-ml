{
 "cells": [
  {
   "cell_type": "code",
   "execution_count": 59,
   "metadata": {},
   "outputs": [],
   "source": [
    "# Upper Confidence Bound\n",
    "\n",
    "# Importing the libraries\n",
    "import numpy as np\n",
    "import matplotlib.pyplot as plt\n",
    "import pandas as pd\n",
    "import math\n"
   ]
  },
  {
   "cell_type": "code",
   "execution_count": 60,
   "metadata": {},
   "outputs": [
    {
     "data": {
      "text/html": [
       "<div>\n",
       "<style scoped>\n",
       "    .dataframe tbody tr th:only-of-type {\n",
       "        vertical-align: middle;\n",
       "    }\n",
       "\n",
       "    .dataframe tbody tr th {\n",
       "        vertical-align: top;\n",
       "    }\n",
       "\n",
       "    .dataframe thead th {\n",
       "        text-align: right;\n",
       "    }\n",
       "</style>\n",
       "<table border=\"1\" class=\"dataframe\">\n",
       "  <thead>\n",
       "    <tr style=\"text-align: right;\">\n",
       "      <th></th>\n",
       "      <th>Ad 1</th>\n",
       "      <th>Ad 2</th>\n",
       "      <th>Ad 3</th>\n",
       "      <th>Ad 4</th>\n",
       "      <th>Ad 5</th>\n",
       "      <th>Ad 6</th>\n",
       "      <th>Ad 7</th>\n",
       "      <th>Ad 8</th>\n",
       "      <th>Ad 9</th>\n",
       "      <th>Ad 10</th>\n",
       "    </tr>\n",
       "  </thead>\n",
       "  <tbody>\n",
       "    <tr>\n",
       "      <th>0</th>\n",
       "      <td>1</td>\n",
       "      <td>0</td>\n",
       "      <td>0</td>\n",
       "      <td>0</td>\n",
       "      <td>1</td>\n",
       "      <td>0</td>\n",
       "      <td>0</td>\n",
       "      <td>0</td>\n",
       "      <td>1</td>\n",
       "      <td>0</td>\n",
       "    </tr>\n",
       "    <tr>\n",
       "      <th>1</th>\n",
       "      <td>0</td>\n",
       "      <td>0</td>\n",
       "      <td>0</td>\n",
       "      <td>0</td>\n",
       "      <td>0</td>\n",
       "      <td>0</td>\n",
       "      <td>0</td>\n",
       "      <td>0</td>\n",
       "      <td>1</td>\n",
       "      <td>0</td>\n",
       "    </tr>\n",
       "    <tr>\n",
       "      <th>2</th>\n",
       "      <td>0</td>\n",
       "      <td>0</td>\n",
       "      <td>0</td>\n",
       "      <td>0</td>\n",
       "      <td>0</td>\n",
       "      <td>0</td>\n",
       "      <td>0</td>\n",
       "      <td>0</td>\n",
       "      <td>0</td>\n",
       "      <td>0</td>\n",
       "    </tr>\n",
       "    <tr>\n",
       "      <th>3</th>\n",
       "      <td>0</td>\n",
       "      <td>1</td>\n",
       "      <td>0</td>\n",
       "      <td>0</td>\n",
       "      <td>0</td>\n",
       "      <td>0</td>\n",
       "      <td>0</td>\n",
       "      <td>1</td>\n",
       "      <td>0</td>\n",
       "      <td>0</td>\n",
       "    </tr>\n",
       "    <tr>\n",
       "      <th>4</th>\n",
       "      <td>0</td>\n",
       "      <td>0</td>\n",
       "      <td>0</td>\n",
       "      <td>0</td>\n",
       "      <td>0</td>\n",
       "      <td>0</td>\n",
       "      <td>0</td>\n",
       "      <td>0</td>\n",
       "      <td>0</td>\n",
       "      <td>0</td>\n",
       "    </tr>\n",
       "    <tr>\n",
       "      <th>5</th>\n",
       "      <td>1</td>\n",
       "      <td>1</td>\n",
       "      <td>0</td>\n",
       "      <td>0</td>\n",
       "      <td>0</td>\n",
       "      <td>0</td>\n",
       "      <td>0</td>\n",
       "      <td>0</td>\n",
       "      <td>0</td>\n",
       "      <td>0</td>\n",
       "    </tr>\n",
       "    <tr>\n",
       "      <th>6</th>\n",
       "      <td>0</td>\n",
       "      <td>0</td>\n",
       "      <td>0</td>\n",
       "      <td>1</td>\n",
       "      <td>0</td>\n",
       "      <td>0</td>\n",
       "      <td>0</td>\n",
       "      <td>0</td>\n",
       "      <td>0</td>\n",
       "      <td>0</td>\n",
       "    </tr>\n",
       "    <tr>\n",
       "      <th>7</th>\n",
       "      <td>1</td>\n",
       "      <td>1</td>\n",
       "      <td>0</td>\n",
       "      <td>0</td>\n",
       "      <td>1</td>\n",
       "      <td>0</td>\n",
       "      <td>0</td>\n",
       "      <td>0</td>\n",
       "      <td>0</td>\n",
       "      <td>0</td>\n",
       "    </tr>\n",
       "    <tr>\n",
       "      <th>8</th>\n",
       "      <td>0</td>\n",
       "      <td>0</td>\n",
       "      <td>0</td>\n",
       "      <td>0</td>\n",
       "      <td>0</td>\n",
       "      <td>0</td>\n",
       "      <td>0</td>\n",
       "      <td>0</td>\n",
       "      <td>0</td>\n",
       "      <td>0</td>\n",
       "    </tr>\n",
       "    <tr>\n",
       "      <th>9</th>\n",
       "      <td>0</td>\n",
       "      <td>0</td>\n",
       "      <td>1</td>\n",
       "      <td>0</td>\n",
       "      <td>0</td>\n",
       "      <td>0</td>\n",
       "      <td>0</td>\n",
       "      <td>0</td>\n",
       "      <td>0</td>\n",
       "      <td>0</td>\n",
       "    </tr>\n",
       "  </tbody>\n",
       "</table>\n",
       "</div>"
      ],
      "text/plain": [
       "   Ad 1  Ad 2  Ad 3  Ad 4  Ad 5  Ad 6  Ad 7  Ad 8  Ad 9  Ad 10\n",
       "0     1     0     0     0     1     0     0     0     1      0\n",
       "1     0     0     0     0     0     0     0     0     1      0\n",
       "2     0     0     0     0     0     0     0     0     0      0\n",
       "3     0     1     0     0     0     0     0     1     0      0\n",
       "4     0     0     0     0     0     0     0     0     0      0\n",
       "5     1     1     0     0     0     0     0     0     0      0\n",
       "6     0     0     0     1     0     0     0     0     0      0\n",
       "7     1     1     0     0     1     0     0     0     0      0\n",
       "8     0     0     0     0     0     0     0     0     0      0\n",
       "9     0     0     1     0     0     0     0     0     0      0"
      ]
     },
     "execution_count": 60,
     "metadata": {},
     "output_type": "execute_result"
    }
   ],
   "source": [
    "# Importing the dataset\n",
    "simulation_data = pd.read_csv('Ads_CTR_Optimisation.csv')\n",
    "simulation_data.head(10)\n"
   ]
  },
  {
   "cell_type": "code",
   "execution_count": 68,
   "metadata": {},
   "outputs": [],
   "source": [
    "# Implementing UCB\n",
    "\n",
    "N = 10000\n",
    "number_ads = 10\n",
    "number_of_display = [0] * number_ads\n",
    "number_of_clicks = [0] * number_ads\n",
    "delta = [0] * number_ads\n",
    "taux_de_click = [0] * number_ads\n",
    "display_history = []"
   ]
  },
  {
   "cell_type": "code",
   "execution_count": 69,
   "metadata": {},
   "outputs": [],
   "source": [
    "def calcul_taux_de_click (ad_index):\n",
    "    taux_de_click[ad_index] = number_of_clicks[ad_index] / (number_of_display[ad_index] + 1)\n",
    "    return taux_de_click"
   ]
  },
  {
   "cell_type": "code",
   "execution_count": 70,
   "metadata": {},
   "outputs": [],
   "source": [
    "def calcul_delta (n, ad_index):\n",
    "    \n",
    "    return math.sqrt(3/2 * math.log(n+1) / (number_of_display[ad_index]+1))"
   ]
  },
  {
   "cell_type": "code",
   "execution_count": 71,
   "metadata": {},
   "outputs": [],
   "source": [
    "def calcul_UCB (ad_index): \n",
    "    return taux_de_click[ad_index] + delta[ad_index]\n",
    "    "
   ]
  },
  {
   "cell_type": "code",
   "execution_count": 72,
   "metadata": {},
   "outputs": [
    {
     "name": "stdout",
     "output_type": "stream",
     "text": [
      "appending  [1, 0, 0, 0, 0, 0, 0, 0, 0, 0]\n",
      "appending  [10, 10, 11, 10, 15, 7, 9, 11, 9, 9]\n",
      "appending  [16, 24, 18, 20, 38, 13, 16, 22, 16, 18]\n",
      "appending  [24, 34, 29, 32, 56, 18, 21, 39, 24, 24]\n",
      "appending  [37, 42, 34, 37, 85, 22, 26, 59, 31, 28]\n",
      "appending  [51, 51, 42, 48, 105, 27, 30, 69, 42, 36]\n",
      "appending  [57, 59, 48, 57, 136, 31, 38, 86, 48, 41]\n",
      "appending  [75, 63, 51, 62, 173, 34, 45, 102, 51, 45]\n",
      "appending  [82, 69, 56, 76, 195, 38, 50, 125, 60, 50]\n",
      "appending  [91, 75, 61, 84, 209, 42, 64, 157, 64, 54]\n",
      "appending  [96, 87, 66, 93, 236, 46, 69, 181, 69, 58]\n",
      "appending  [102, 92, 70, 102, 280, 50, 78, 190, 74, 63]\n",
      "appending  [105, 95, 73, 105, 345, 52, 80, 194, 76, 76]\n",
      "appending  [118, 104, 77, 115, 363, 56, 89, 213, 85, 81]\n",
      "appending  [121, 107, 80, 121, 430, 58, 92, 220, 88, 84]\n",
      "appending  [148, 109, 82, 124, 477, 60, 98, 227, 90, 86]\n",
      "appending  [154, 111, 87, 125, 541, 61, 99, 245, 91, 87]\n",
      "appending  [161, 114, 90, 137, 590, 64, 110, 251, 94, 90]\n",
      "appending  [177, 121, 93, 140, 629, 66, 121, 264, 97, 93]\n",
      "appending  [203, 125, 96, 144, 665, 69, 125, 277, 101, 96]\n",
      "appending  [207, 130, 99, 152, 693, 71, 128, 310, 112, 99]\n",
      "appending  [221, 141, 103, 157, 733, 75, 133, 319, 116, 103]\n",
      "appending  [222, 142, 104, 158, 816, 76, 142, 320, 117, 104]\n",
      "appending  [230, 145, 111, 169, 857, 78, 145, 339, 120, 107]\n",
      "appending  [255, 154, 115, 174, 880, 81, 150, 358, 124, 110]\n",
      "appending  [258, 156, 117, 177, 920, 83, 152, 400, 126, 112]\n",
      "appending  [276, 159, 119, 180, 956, 84, 159, 426, 128, 114]\n",
      "appending  [309, 161, 121, 182, 1000, 86, 165, 431, 130, 116]\n",
      "appending  [314, 177, 124, 190, 1044, 88, 168, 444, 133, 119]\n",
      "appending  [326, 198, 126, 192, 1074, 90, 179, 460, 135, 121]\n",
      "appending  [327, 206, 126, 193, 1084, 91, 180, 532, 136, 126]\n",
      "appending  [361, 209, 129, 196, 1101, 93, 183, 562, 138, 129]\n",
      "appending  [366, 216, 131, 199, 1133, 95, 220, 569, 141, 131]\n",
      "appending  [366, 217, 131, 200, 1229, 95, 221, 570, 141, 131]\n",
      "appending  [377, 223, 133, 202, 1278, 97, 223, 592, 143, 133]\n",
      "appending  [381, 230, 135, 204, 1339, 98, 226, 608, 145, 135]\n",
      "appending  [381, 230, 135, 205, 1433, 99, 226, 612, 145, 135]\n",
      "appending  [389, 233, 137, 216, 1491, 100, 228, 618, 147, 142]\n",
      "appending  [390, 234, 138, 216, 1565, 101, 229, 623, 162, 143]\n",
      "appending  [395, 237, 140, 232, 1614, 103, 237, 633, 165, 145]\n",
      "appending  [395, 237, 140, 241, 1704, 103, 237, 634, 165, 145]\n",
      "appending  [395, 237, 140, 241, 1804, 103, 237, 634, 165, 145]\n",
      "appending  [395, 237, 140, 241, 1904, 103, 237, 634, 165, 145]\n",
      "appending  [395, 237, 140, 241, 2004, 103, 237, 634, 165, 145]\n",
      "appending  [395, 237, 148, 241, 2096, 103, 237, 634, 165, 145]\n",
      "appending  [409, 239, 157, 243, 2134, 105, 239, 661, 167, 147]\n",
      "appending  [410, 244, 158, 244, 2204, 105, 240, 681, 167, 148]\n",
      "appending  [416, 245, 159, 245, 2285, 106, 241, 687, 168, 149]\n",
      "appending  [418, 247, 160, 247, 2338, 107, 264, 701, 169, 150]\n",
      "appending  [418, 247, 160, 247, 2438, 107, 264, 701, 169, 150]\n",
      "appending  [420, 248, 161, 248, 2513, 108, 265, 711, 171, 156]\n",
      "appending  [422, 250, 162, 250, 2597, 109, 267, 715, 172, 157]\n",
      "appending  [426, 253, 164, 253, 2670, 111, 270, 721, 174, 159]\n",
      "appending  [429, 259, 166, 255, 2736, 112, 277, 730, 176, 161]\n",
      "appending  [430, 260, 166, 255, 2833, 112, 277, 731, 176, 161]\n",
      "appending  [431, 261, 167, 256, 2923, 113, 278, 733, 177, 162]\n",
      "appending  [439, 267, 169, 259, 2982, 115, 281, 746, 179, 164]\n",
      "appending  [447, 270, 171, 261, 3045, 116, 288, 756, 181, 166]\n",
      "appending  [450, 273, 173, 264, 3114, 118, 290, 768, 183, 168]\n",
      "appending  [477, 274, 174, 265, 3175, 119, 292, 772, 184, 169]\n",
      "appending  [478, 275, 174, 266, 3269, 119, 293, 773, 185, 169]\n",
      "appending  [478, 275, 174, 266, 3369, 119, 293, 773, 185, 169]\n",
      "appending  [509, 277, 176, 268, 3411, 120, 295, 788, 186, 171]\n",
      "appending  [518, 278, 182, 268, 3486, 121, 296, 794, 187, 171]\n",
      "appending  [538, 279, 183, 270, 3551, 122, 297, 801, 188, 172]\n",
      "appending  [551, 280, 184, 271, 3625, 123, 298, 807, 189, 173]\n",
      "appending  [553, 282, 185, 286, 3680, 124, 300, 826, 190, 175]\n",
      "appending  [561, 284, 187, 289, 3749, 125, 302, 831, 197, 176]\n",
      "appending  [562, 285, 187, 289, 3833, 125, 303, 832, 208, 177]\n",
      "appending  [563, 286, 188, 318, 3897, 126, 304, 834, 208, 177]\n",
      "appending  [565, 287, 189, 319, 3977, 127, 309, 836, 214, 178]\n",
      "appending  [567, 288, 190, 320, 4065, 127, 311, 839, 215, 179]\n",
      "appending  [570, 294, 191, 322, 4142, 129, 313, 843, 217, 180]\n",
      "appending  [572, 296, 192, 323, 4230, 129, 314, 846, 218, 181]\n",
      "appending  [572, 296, 192, 323, 4330, 129, 314, 846, 218, 181]\n",
      "appending  [572, 296, 192, 323, 4429, 130, 314, 846, 218, 181]\n",
      "appending  [575, 297, 193, 325, 4504, 131, 316, 858, 219, 183]\n",
      "appending  [582, 300, 195, 328, 4566, 132, 318, 875, 221, 184]\n",
      "appending  [669, 300, 196, 328, 4573, 133, 319, 876, 222, 185]\n",
      "appending  [669, 300, 196, 328, 4673, 133, 319, 876, 222, 185]\n",
      "appending  [669, 300, 196, 328, 4773, 133, 319, 876, 222, 185]\n",
      "appending  [669, 300, 196, 328, 4873, 133, 319, 876, 222, 185]\n",
      "appending  [670, 301, 196, 329, 4966, 133, 320, 877, 223, 186]\n",
      "appending  [672, 302, 197, 330, 5059, 134, 320, 878, 223, 186]\n",
      "appending  [674, 303, 198, 331, 5130, 135, 322, 897, 224, 187]\n",
      "appending  [676, 304, 199, 332, 5215, 135, 323, 904, 225, 188]\n",
      "appending  [676, 304, 199, 332, 5315, 135, 323, 904, 225, 188]\n",
      "appending  [676, 304, 199, 332, 5415, 135, 323, 904, 225, 188]\n",
      "appending  [676, 304, 199, 333, 5513, 136, 323, 904, 225, 188]\n",
      "appending  [678, 306, 200, 334, 5602, 136, 324, 906, 226, 189]\n",
      "appending  [680, 307, 201, 335, 5668, 137, 340, 916, 227, 190]\n",
      "appending  [680, 307, 201, 335, 5763, 137, 344, 917, 227, 190]\n",
      "appending  [681, 307, 201, 336, 5857, 138, 345, 918, 228, 190]\n",
      "appending  [687, 341, 202, 337, 5910, 138, 346, 920, 229, 191]\n",
      "appending  [687, 346, 202, 337, 6004, 138, 346, 921, 229, 191]\n",
      "appending  [687, 346, 202, 337, 6104, 138, 346, 921, 229, 191]\n",
      "appending  [688, 347, 203, 338, 6155, 139, 375, 934, 230, 192]\n",
      "appending  [693, 351, 203, 338, 6245, 139, 375, 935, 230, 192]\n",
      "appending  [695, 353, 204, 339, 6328, 140, 381, 937, 231, 193]\n",
      "appending  [695, 353, 204, 339, 6428, 140, 381, 937, 231, 193]\n"
     ]
    }
   ],
   "source": [
    "for n in range(0, N):\n",
    "    current_ad = 0\n",
    "    best_UCB = 0.0\n",
    "    for i in range(0, number_ads):\n",
    "        taux_de_click = calcul_taux_de_click(i)\n",
    "        delta[i] = calcul_delta(n, i)\n",
    "        current_UCB = calcul_UCB(i)   \n",
    "        if current_UCB > best_UCB:\n",
    "            best_UCB = current_UCB\n",
    "            current_ad = i\n",
    "    number_of_display[current_ad] = number_of_display[current_ad] + 1\n",
    "    display_result = simulation_data.values[n, current_ad]\n",
    "    number_of_clicks[current_ad] = number_of_clicks[current_ad] + display_result\n",
    "    if n % 100 == 0 :\n",
    "        print(\"appending \", number_of_display)\n",
    "        display_history.append(number_of_display.copy())"
   ]
  },
  {
   "cell_type": "code",
   "execution_count": 73,
   "metadata": {},
   "outputs": [
    {
     "data": {
      "text/plain": [
       "[695, 353, 204, 339, 6527, 140, 381, 937, 231, 193]"
      ]
     },
     "execution_count": 73,
     "metadata": {},
     "output_type": "execute_result"
    }
   ],
   "source": [
    "number_of_display"
   ]
  },
  {
   "cell_type": "code",
   "execution_count": 74,
   "metadata": {},
   "outputs": [
    {
     "data": {
      "image/png": "[encoded data removed]",
      "text/plain": [
       "<matplotlib.figure.Figure at 0x1134cc198>"
      ]
     },
     "metadata": {},
     "output_type": "display_data"
    }
   ],
   "source": [
    "plt.bar(range(10), number_of_display)\n",
    "plt.title('Visualisation des affichages')\n",
    "plt.xlabel('Ads Index')\n",
    "plt.ylabel('Number of times each ad was displayed')\n",
    "plt.show()"
   ]
  },
  {
   "cell_type": "code",
   "execution_count": 75,
   "metadata": {},
   "outputs": [
    {
     "data": {
      "text/plain": [
       "[120, 41, 11, 38, 1758, 0, 47, 180, 16, 9]"
      ]
     },
     "execution_count": 75,
     "metadata": {},
     "output_type": "execute_result"
    }
   ],
   "source": [
    "number_of_clicks"
   ]
  },
  {
   "cell_type": "code",
   "execution_count": 84,
   "metadata": {},
   "outputs": [
    {
     "data": {
      "text/plain": [
       "2220"
      ]
     },
     "execution_count": 84,
     "metadata": {},
     "output_type": "execute_result"
    }
   ],
   "source": [
    "total_clicks = sum(number_of_clicks)\n",
    "total_clicks"
   ]
  },
  {
   "cell_type": "code",
   "execution_count": 76,
   "metadata": {},
   "outputs": [
    {
     "data": {
      "image/png": "[encoded data removed]",
      "text/plain": [
       "<matplotlib.figure.Figure at 0x1134a84e0>"
      ]
     },
     "metadata": {},
     "output_type": "display_data"
    }
   ],
   "source": [
    "plt.bar(range(10), number_of_clicks)\n",
    "plt.title('Visualisation des  clicks')\n",
    "plt.xlabel('Ads Index')\n",
    "plt.ylabel('Number of times each ad was clicked')\n",
    "plt.show()"
   ]
  },
  {
   "cell_type": "code",
   "execution_count": 77,
   "metadata": {},
   "outputs": [
    {
     "data": {
      "image/png": "[encoded data removed]",
      "text/plain": [
       "<matplotlib.figure.Figure at 0x10abc6f60>"
      ]
     },
     "metadata": {},
     "output_type": "display_data"
    }
   ],
   "source": [
    "plt.plot(number_of_display, color=\"blue\")\n",
    "plt.plot(number_of_clicks, color=\"red\")\n",
    "plt.title('Visualisation des affichages et de clicks')\n",
    "plt.xlabel('Ads Index')\n",
    "plt.ylabel('Number of times each ad was displayed or clicked')\n",
    "plt.show()"
   ]
  },
  {
   "cell_type": "code",
   "execution_count": 78,
   "metadata": {},
   "outputs": [
    {
     "data": {
      "text/plain": [
       "2220"
      ]
     },
     "execution_count": 78,
     "metadata": {},
     "output_type": "execute_result"
    }
   ],
   "source": [
    "total_clicks"
   ]
  },
  {
   "cell_type": "code",
   "execution_count": 79,
   "metadata": {
    "scrolled": true
   },
   "outputs": [
    {
     "data": {
      "text/plain": [
       "[[1, 0, 0, 0, 0, 0, 0, 0, 0, 0],\n",
       " [10, 10, 11, 10, 15, 7, 9, 11, 9, 9],\n",
       " [16, 24, 18, 20, 38, 13, 16, 22, 16, 18],\n",
       " [24, 34, 29, 32, 56, 18, 21, 39, 24, 24],\n",
       " [37, 42, 34, 37, 85, 22, 26, 59, 31, 28],\n",
       " [51, 51, 42, 48, 105, 27, 30, 69, 42, 36],\n",
       " [57, 59, 48, 57, 136, 31, 38, 86, 48, 41],\n",
       " [75, 63, 51, 62, 173, 34, 45, 102, 51, 45],\n",
       " [82, 69, 56, 76, 195, 38, 50, 125, 60, 50],\n",
       " [91, 75, 61, 84, 209, 42, 64, 157, 64, 54],\n",
       " [96, 87, 66, 93, 236, 46, 69, 181, 69, 58],\n",
       " [102, 92, 70, 102, 280, 50, 78, 190, 74, 63],\n",
       " [105, 95, 73, 105, 345, 52, 80, 194, 76, 76],\n",
       " [118, 104, 77, 115, 363, 56, 89, 213, 85, 81],\n",
       " [121, 107, 80, 121, 430, 58, 92, 220, 88, 84],\n",
       " [148, 109, 82, 124, 477, 60, 98, 227, 90, 86],\n",
       " [154, 111, 87, 125, 541, 61, 99, 245, 91, 87],\n",
       " [161, 114, 90, 137, 590, 64, 110, 251, 94, 90],\n",
       " [177, 121, 93, 140, 629, 66, 121, 264, 97, 93],\n",
       " [203, 125, 96, 144, 665, 69, 125, 277, 101, 96],\n",
       " [207, 130, 99, 152, 693, 71, 128, 310, 112, 99],\n",
       " [221, 141, 103, 157, 733, 75, 133, 319, 116, 103],\n",
       " [222, 142, 104, 158, 816, 76, 142, 320, 117, 104],\n",
       " [230, 145, 111, 169, 857, 78, 145, 339, 120, 107],\n",
       " [255, 154, 115, 174, 880, 81, 150, 358, 124, 110],\n",
       " [258, 156, 117, 177, 920, 83, 152, 400, 126, 112],\n",
       " [276, 159, 119, 180, 956, 84, 159, 426, 128, 114],\n",
       " [309, 161, 121, 182, 1000, 86, 165, 431, 130, 116],\n",
       " [314, 177, 124, 190, 1044, 88, 168, 444, 133, 119],\n",
       " [326, 198, 126, 192, 1074, 90, 179, 460, 135, 121],\n",
       " [327, 206, 126, 193, 1084, 91, 180, 532, 136, 126],\n",
       " [361, 209, 129, 196, 1101, 93, 183, 562, 138, 129],\n",
       " [366, 216, 131, 199, 1133, 95, 220, 569, 141, 131],\n",
       " [366, 217, 131, 200, 1229, 95, 221, 570, 141, 131],\n",
       " [377, 223, 133, 202, 1278, 97, 223, 592, 143, 133],\n",
       " [381, 230, 135, 204, 1339, 98, 226, 608, 145, 135],\n",
       " [381, 230, 135, 205, 1433, 99, 226, 612, 145, 135],\n",
       " [389, 233, 137, 216, 1491, 100, 228, 618, 147, 142],\n",
       " [390, 234, 138, 216, 1565, 101, 229, 623, 162, 143],\n",
       " [395, 237, 140, 232, 1614, 103, 237, 633, 165, 145],\n",
       " [395, 237, 140, 241, 1704, 103, 237, 634, 165, 145],\n",
       " [395, 237, 140, 241, 1804, 103, 237, 634, 165, 145],\n",
       " [395, 237, 140, 241, 1904, 103, 237, 634, 165, 145],\n",
       " [395, 237, 140, 241, 2004, 103, 237, 634, 165, 145],\n",
       " [395, 237, 148, 241, 2096, 103, 237, 634, 165, 145],\n",
       " [409, 239, 157, 243, 2134, 105, 239, 661, 167, 147],\n",
       " [410, 244, 158, 244, 2204, 105, 240, 681, 167, 148],\n",
       " [416, 245, 159, 245, 2285, 106, 241, 687, 168, 149],\n",
       " [418, 247, 160, 247, 2338, 107, 264, 701, 169, 150],\n",
       " [418, 247, 160, 247, 2438, 107, 264, 701, 169, 150],\n",
       " [420, 248, 161, 248, 2513, 108, 265, 711, 171, 156],\n",
       " [422, 250, 162, 250, 2597, 109, 267, 715, 172, 157],\n",
       " [426, 253, 164, 253, 2670, 111, 270, 721, 174, 159],\n",
       " [429, 259, 166, 255, 2736, 112, 277, 730, 176, 161],\n",
       " [430, 260, 166, 255, 2833, 112, 277, 731, 176, 161],\n",
       " [431, 261, 167, 256, 2923, 113, 278, 733, 177, 162],\n",
       " [439, 267, 169, 259, 2982, 115, 281, 746, 179, 164],\n",
       " [447, 270, 171, 261, 3045, 116, 288, 756, 181, 166],\n",
       " [450, 273, 173, 264, 3114, 118, 290, 768, 183, 168],\n",
       " [477, 274, 174, 265, 3175, 119, 292, 772, 184, 169],\n",
       " [478, 275, 174, 266, 3269, 119, 293, 773, 185, 169],\n",
       " [478, 275, 174, 266, 3369, 119, 293, 773, 185, 169],\n",
       " [509, 277, 176, 268, 3411, 120, 295, 788, 186, 171],\n",
       " [518, 278, 182, 268, 3486, 121, 296, 794, 187, 171],\n",
       " [538, 279, 183, 270, 3551, 122, 297, 801, 188, 172],\n",
       " [551, 280, 184, 271, 3625, 123, 298, 807, 189, 173],\n",
       " [553, 282, 185, 286, 3680, 124, 300, 826, 190, 175],\n",
       " [561, 284, 187, 289, 3749, 125, 302, 831, 197, 176],\n",
       " [562, 285, 187, 289, 3833, 125, 303, 832, 208, 177],\n",
       " [563, 286, 188, 318, 3897, 126, 304, 834, 208, 177],\n",
       " [565, 287, 189, 319, 3977, 127, 309, 836, 214, 178],\n",
       " [567, 288, 190, 320, 4065, 127, 311, 839, 215, 179],\n",
       " [570, 294, 191, 322, 4142, 129, 313, 843, 217, 180],\n",
       " [572, 296, 192, 323, 4230, 129, 314, 846, 218, 181],\n",
       " [572, 296, 192, 323, 4330, 129, 314, 846, 218, 181],\n",
       " [572, 296, 192, 323, 4429, 130, 314, 846, 218, 181],\n",
       " [575, 297, 193, 325, 4504, 131, 316, 858, 219, 183],\n",
       " [582, 300, 195, 328, 4566, 132, 318, 875, 221, 184],\n",
       " [669, 300, 196, 328, 4573, 133, 319, 876, 222, 185],\n",
       " [669, 300, 196, 328, 4673, 133, 319, 876, 222, 185],\n",
       " [669, 300, 196, 328, 4773, 133, 319, 876, 222, 185],\n",
       " [669, 300, 196, 328, 4873, 133, 319, 876, 222, 185],\n",
       " [670, 301, 196, 329, 4966, 133, 320, 877, 223, 186],\n",
       " [672, 302, 197, 330, 5059, 134, 320, 878, 223, 186],\n",
       " [674, 303, 198, 331, 5130, 135, 322, 897, 224, 187],\n",
       " [676, 304, 199, 332, 5215, 135, 323, 904, 225, 188],\n",
       " [676, 304, 199, 332, 5315, 135, 323, 904, 225, 188],\n",
       " [676, 304, 199, 332, 5415, 135, 323, 904, 225, 188],\n",
       " [676, 304, 199, 333, 5513, 136, 323, 904, 225, 188],\n",
       " [678, 306, 200, 334, 5602, 136, 324, 906, 226, 189],\n",
       " [680, 307, 201, 335, 5668, 137, 340, 916, 227, 190],\n",
       " [680, 307, 201, 335, 5763, 137, 344, 917, 227, 190],\n",
       " [681, 307, 201, 336, 5857, 138, 345, 918, 228, 190],\n",
       " [687, 341, 202, 337, 5910, 138, 346, 920, 229, 191],\n",
       " [687, 346, 202, 337, 6004, 138, 346, 921, 229, 191],\n",
       " [687, 346, 202, 337, 6104, 138, 346, 921, 229, 191],\n",
       " [688, 347, 203, 338, 6155, 139, 375, 934, 230, 192],\n",
       " [693, 351, 203, 338, 6245, 139, 375, 935, 230, 192],\n",
       " [695, 353, 204, 339, 6328, 140, 381, 937, 231, 193],\n",
       " [695, 353, 204, 339, 6428, 140, 381, 937, 231, 193]]"
      ]
     },
     "execution_count": 79,
     "metadata": {},
     "output_type": "execute_result"
    }
   ],
   "source": [
    "display_history"
   ]
  },
  {
   "cell_type": "code",
   "execution_count": 86,
   "metadata": {},
   "outputs": [
    {
     "data": {
      "image/png": "[encoded data removed]",
      "text/plain": [
       "<matplotlib.figure.Figure at 0x10abd7c50>"
      ]
     },
     "metadata": {},
     "output_type": "display_data"
    }
   ],
   "source": [
    "for i in range (0,100):\n",
    "    plt.plot(display_history[i])"
   ]
  },
  {
   "cell_type": "code",
   "execution_count": null,
   "metadata": {},
   "outputs": [],
   "source": []
  },
  {
   "cell_type": "code",
   "execution_count": null,
   "metadata": {},
   "outputs": [],
   "source": []
  }
 ],
 "metadata": {
  "kernelspec": {
   "display_name": "Python 3",
   "language": "python",
   "name": "python3"
  },
  "language_info": {
   "codemirror_mode": {
    "name": "ipython",
    "version": 3
   },
   "file_extension": ".py",
   "mimetype": "text/x-python",
   "name": "python",
   "nbconvert_exporter": "python",
   "pygments_lexer": "ipython3",
   "version": "3.6.4"
  }
 },
 "nbformat": 4,
 "nbformat_minor": 2
}
